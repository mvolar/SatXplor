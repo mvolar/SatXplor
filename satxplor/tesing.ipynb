{
 "cells": [
  {
   "cell_type": "code",
   "execution_count": null,
   "metadata": {},
   "outputs": [],
   "source": [
    "import numpy as np\n",
    "import polars as pl\n",
    "from plotnine import ggplot, aes, geom_histogram, ggtitle, theme_bw\n",
    "import pandas as pd\n",
    "import json\n",
    "import utils.constants as constants\n",
    "from utils.utils import read_blast_output, convert_df_to_gff\n",
    "from logging_config import logger\n",
    "\n",
    "\n",
    "\n",
    "#temporary function used only in this scripts\n",
    "def find_and_group_overlapping(group):\n",
    "    intervals = []\n",
    "    strand = group[\"strand\"][0]\n",
    "    current_start, current_end = group['new_start'][0], group['new_end'][0]\n",
    "    for i in range(1, len(group)):\n",
    "        if group['new_start'][i] <= current_end:\n",
    "            # Overlapping intervals, extend the current interval\n",
    "            current_end = max(current_end, group['new_end'][i])\n",
    "        else:\n",
    "            # Non-overlapping interval, start a new interval\n",
    "            intervals.append((current_start, current_end))\n",
    "            current_start, current_end = group['new_start'][i], group['new_end'][i]\n",
    "\n",
    "    intervals.append((current_start, current_end))\n",
    "    return pl.DataFrame({\n",
    "        'seqnames': [group['subject'][0]] * len(intervals),\n",
    "        'source': [\"SatXplor\"] * len(intervals),\n",
    "        'feature' : [group['query'][0]] * len(intervals),\n",
    "        'start': [start for start, _ in intervals],\n",
    "        'end': [end for _, end in intervals],\n",
    "        'score': [100] * len(intervals),\n",
    "        'strand' : [strand] * len(intervals),\n",
    "        'frame' : [\".\"] * len(intervals),\n",
    "        'group' : [group['query'][0]] * len(intervals),\n",
    "    })\n"
   ]
  }
 ],
 "metadata": {
  "language_info": {
   "name": "python"
  }
 },
 "nbformat": 4,
 "nbformat_minor": 2
}
